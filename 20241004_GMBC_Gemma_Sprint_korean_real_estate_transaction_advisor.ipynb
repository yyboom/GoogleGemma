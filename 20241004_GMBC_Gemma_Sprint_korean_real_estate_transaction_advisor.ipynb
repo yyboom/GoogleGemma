{
  "nbformat": 4,
  "nbformat_minor": 0,
  "metadata": {
    "colab": {
      "provenance": [],
      "include_colab_link": true
    },
    "kernelspec": {
      "name": "python3",
      "display_name": "Python 3"
    },
    "language_info": {
      "name": "python"
    }
  },
  "cells": [
    {
      "cell_type": "markdown",
      "metadata": {
        "id": "view-in-github",
        "colab_type": "text"
      },
      "source": [
        "<a href=\"https://colab.research.google.com/github/yyboom/GoogleGemma/blob/master/20241004_GMBC_Gemma_Sprint_korean_real_estate_transaction_advisor.ipynb\" target=\"_parent\"><img src=\"https://colab.research.google.com/assets/colab-badge.svg\" alt=\"Open In Colab\"/></a>"
      ]
    },
    {
      "cell_type": "code",
      "execution_count": null,
      "metadata": {
        "id": "Bu43RmulgxrR"
      },
      "outputs": [],
      "source": [
        "%%capture\n",
        "%pip install -U bitsandbytes\n",
        "%pip install -U transformers\n",
        "%pip install -U peft\n",
        "%pip install -U accelerate\n",
        "%pip install -U trl\n",
        "%pip install -U datasets\n",
        "%pip install -U kaggle"
      ]
    },
    {
      "cell_type": "code",
      "source": [
        "import torch\n",
        "import re\n",
        "import os\n",
        "import io\n",
        "import pandas as pd\n",
        "import json\n",
        "from google.colab import files\n",
        "from google.colab import userdata\n",
        "from google.colab import files\n",
        "from datasets import Dataset, load_dataset\n",
        "from transformers import AutoTokenizer, AutoModelForCausalLM, BitsAndBytesConfig, pipeline, TrainingArguments\n",
        "from peft import LoraConfig, PeftModel\n",
        "from trl import SFTTrainer"
      ],
      "metadata": {
        "id": "xgmk6erLg06l"
      },
      "execution_count": null,
      "outputs": []
    },
    {
      "cell_type": "code",
      "source": [
        "from google.colab import drive\n",
        "drive.mount('/content/drive')"
      ],
      "metadata": {
        "colab": {
          "base_uri": "https://localhost:8080/"
        },
        "id": "u1BU18H0o4Ld",
        "outputId": "b0f83307-c15a-49bf-867f-02f657bc019c"
      },
      "execution_count": null,
      "outputs": [
        {
          "output_type": "stream",
          "name": "stdout",
          "text": [
            "Mounted at /content/drive\n"
          ]
        }
      ]
    },
    {
      "cell_type": "code",
      "source": [
        "df = pd.read_csv('/content/drive/MyDrive/Apart Deal.csv')"
      ],
      "metadata": {
        "id": "X1DM7XIShGYY",
        "colab": {
          "base_uri": "https://localhost:8080/"
        },
        "outputId": "cbb3bd01-1dae-4fec-8ba2-e6f776247e7b"
      },
      "execution_count": null,
      "outputs": [
        {
          "output_type": "stream",
          "name": "stderr",
          "text": [
            "<ipython-input-4-c9ab1da95f4a>:1: DtypeWarning: Columns (6,8) have mixed types. Specify dtype option on import or set low_memory=False.\n",
            "  df = pd.read_csv('/content/drive/MyDrive/Apart Deal.csv')\n"
          ]
        }
      ]
    },
    {
      "cell_type": "code",
      "source": [
        "def create_input(row):\n",
        "    # 부동산 거래 정보를 입력으로 생성\n",
        "    profile = (\n",
        "        f\"부동산 거래 정보:\\n\"\n",
        "        f\"- 거래일: {row['거래일']}\\n\"\n",
        "        f\"- 매물명: {row['법정동']}\\n\"\n",
        "        f\"- 지번: {row['지번']}\\n\"\n",
        "        f\"- 전용면적: {row['전용면적']}㎡\\n\"\n",
        "    )\n",
        "    return profile\n",
        "\n",
        "def create_output(row):\n",
        "    # 거래 금액 정보를 포함한 출력 생성\n",
        "    output = (\n",
        "        f\"해당 매물은 {row['거래일']}에 거래되었으며, 전용면적 {row['전용면적']}㎡의 {row['법정동']}입니다. \"\n",
        "        f\"지번은 {row['지번']}이고, 거래 금액은 {row['거래금액']}원입니다.\"\n",
        "    )\n",
        "    return output\n",
        "\n",
        "# 'input' 열 생성\n",
        "df['input'] = df.apply(create_input, axis=1)\n",
        "\n",
        "# 'output' 열 생성\n",
        "df['output'] = df.apply(create_output, axis=1)\n",
        "\n",
        "# 'input'과 'output'을 결합해 'text' 열 생성\n",
        "df['text'] = df.apply(lambda row: f\"input: {row['input']}\\noutput: {row['output']}\", axis=1)\n"
      ],
      "metadata": {
        "id": "MMm4SAvkhLh1"
      },
      "execution_count": null,
      "outputs": []
    },
    {
      "cell_type": "code",
      "source": [
        "# 결측값이 있는 행 제거\n",
        "df.dropna(subset=['input', 'output'], inplace=True)\n",
        "\n",
        "# 데이터프레임 섞기\n",
        "df = df.sample(frac=1).reset_index(drop=True)"
      ],
      "metadata": {
        "id": "W2bX-rmviOZp"
      },
      "execution_count": null,
      "outputs": []
    },
    {
      "cell_type": "code",
      "source": [
        "# 학습을 위한 'text' 열 준비\n",
        "df['text'] = df.apply(lambda row: f\"input: {row['input']}\\noutput: {row['output']}\", axis=1)"
      ],
      "metadata": {
        "id": "Um9Or-rckY0f"
      },
      "execution_count": null,
      "outputs": []
    },
    {
      "cell_type": "code",
      "source": [
        "# 입력-출력 쌍 예시 출력\n",
        "example_row = df.iloc[0]\n",
        "print(\"입력:\")\n",
        "print(example_row['input'])\n",
        "print(\"\\n출력:\")\n",
        "print(example_row['output'])"
      ],
      "metadata": {
        "id": "BQEHhmHSlgX2",
        "colab": {
          "base_uri": "https://localhost:8080/"
        },
        "outputId": "b3d5494a-243f-4797-fd26-17d813f20bbc"
      },
      "execution_count": null,
      "outputs": [
        {
          "output_type": "stream",
          "name": "stdout",
          "text": [
            "입력:\n",
            "부동산 거래 정보:\n",
            "- 거래일: 5/6/2020 0:00\n",
            "- 매물명: 진동면 진동리\n",
            "- 지번: 424\n",
            "- 전용면적: 59.925㎡\n",
            "\n",
            "\n",
            "출력:\n",
            "해당 매물은 5/6/2020 0:00에 거래되었으며, 전용면적 59.925㎡의 진동면 진동리입니다. 지번은 424이고, 거래 금액은 14500원입니다.\n"
          ]
        }
      ]
    },
    {
      "cell_type": "code",
      "source": [
        "# 입력-출력 쌍 예시 출력\n",
        "example_row = df.iloc[0]\n",
        "print(\"입력:\")\n",
        "print(example_row['input'])\n",
        "print(\"\\n출력:\")\n",
        "print(example_row['output'])"
      ],
      "metadata": {
        "id": "gmS3A5ComzAc",
        "colab": {
          "base_uri": "https://localhost:8080/"
        },
        "outputId": "03ac5003-444a-4f4c-fce0-7bf11d31c0fe"
      },
      "execution_count": null,
      "outputs": [
        {
          "output_type": "stream",
          "name": "stdout",
          "text": [
            "입력:\n",
            "부동산 거래 정보:\n",
            "- 거래일: 5/6/2020 0:00\n",
            "- 매물명: 진동면 진동리\n",
            "- 지번: 424\n",
            "- 전용면적: 59.925㎡\n",
            "\n",
            "\n",
            "출력:\n",
            "해당 매물은 5/6/2020 0:00에 거래되었으며, 전용면적 59.925㎡의 진동면 진동리입니다. 지번은 424이고, 거래 금액은 14500원입니다.\n"
          ]
        }
      ]
    },
    {
      "cell_type": "code",
      "source": [
        "from datasets import Dataset\n",
        "\n",
        "# 'text' 열에서 결측값이 있는 행 제거\n",
        "df.dropna(subset=['text'], inplace=True)\n",
        "\n",
        "# pandas DataFrame에서 Dataset 생성\n",
        "train_data = Dataset.from_pandas(df[['text']])\n",
        "\n",
        "# Dataset 확인\n",
        "print(train_data)\n"
      ],
      "metadata": {
        "id": "AqFK5NmQm1W0"
      },
      "execution_count": null,
      "outputs": []
    },
    {
      "cell_type": "code",
      "source": [
        "# 모델 초기화\n",
        "model_name = \"/kaggle/input/gemma/transformers/2b-it/3\"  # 모델 경로\n",
        "compute_dtype = getattr(torch, \"float16\")  # 계산 데이터 타입 설정\n",
        "\n",
        "# Bits and Bytes 구성 설정\n",
        "bnb_config = BitsAndBytesConfig(\n",
        "    load_in_4bit=True,  # 4비트 양자화 로드\n",
        "    bnb_4bit_use_double_quant=False,  # 이중 양자화 사용 여부\n",
        "    bnb_4bit_quant_type=\"nf4\",  # 4비트 양자화 유형\n",
        "    bnb_4bit_compute_dtype=compute_dtype,  # 계산 데이터 타입\n",
        ")\n",
        "\n",
        "# 모델 불러오기\n",
        "model = AutoModelForCausalLM.from_pretrained(\n",
        "    model_name,\n",
        "    quantization_config=bnb_config,  # 양자화 설정\n",
        "    torch_dtype=compute_dtype,  # 계산 데이터 타입\n",
        "    low_cpu_mem_usage=True,  # CPU 메모리 사용량 최소화\n",
        ")\n",
        "\n",
        "# 모델 설정 수정\n",
        "model.config.use_cache = False  # 캐시 사용 비활성화\n",
        "model.config.pretraining_tp = 1  # 사전 훈련 텐서 병렬화 설정\n",
        "\n",
        "model.config.hidden_activation = 'gelu_pytorch_tanh'  # 숨겨진 활성화 함수 설정\n",
        "\n",
        "max_seq_length = 1024  # 최대 시퀀스 길이 설정\n",
        "tokenizer = AutoTokenizer.from_pretrained(model_name, max_seq_length=max_seq_length)  # 토크나이저 불러오기"
      ],
      "metadata": {
        "id": "wKoRUnU8nG7g"
      },
      "execution_count": null,
      "outputs": []
    },
    {
      "cell_type": "code",
      "source": [
        "# 모델 파인튜닝 설정\n",
        "peft_config = LoraConfig(\n",
        "    lora_alpha=16,  # LoRA의 알파 값\n",
        "    lora_dropout=0,  # LoRA 드롭아웃 비율\n",
        "    r=64,  # LoRA의 차원 수\n",
        "    bias=\"none\",  # 바이어스 처리 방법\n",
        "    task_type=\"CAUSAL_LM\",  # 작업 유형: CAUSAL_LM (원인적 언어 모델링)\n",
        "    target_modules=[\"q_proj\", \"k_proj\", \"v_proj\", \"o_proj\",  # LoRA를 적용할 모듈\n",
        "                    \"gate_proj\", \"up_proj\", \"down_proj\"],\n",
        ")"
      ],
      "metadata": {
        "id": "Ctw5x2bGnIr7"
      },
      "execution_count": null,
      "outputs": []
    },
    {
      "cell_type": "code",
      "source": [
        "training_arguments = TrainingArguments(\n",
        "    output_dir=\"korean-real-estate-transaction_advisor_model\",\n",
        "    num_train_epochs=3,\n",
        "    per_device_train_batch_size=1,\n",
        "    gradient_accumulation_steps=8,\n",
        "    optim=\"paged_adamw_32bit\",\n",
        "    save_steps=0,\n",
        "    logging_steps=25,\n",
        "    learning_rate=5e-4,\n",
        "    weight_decay=0.001,\n",
        "    fp16=True,\n",
        "    max_grad_norm=0.3,\n",
        "    warmup_ratio=0.03,\n",
        "    lr_scheduler_type=\"cosine\",\n",
        "    report_to=\"none\",\n",
        ")"
      ],
      "metadata": {
        "id": "joJCTiFxnRRu"
      },
      "execution_count": null,
      "outputs": []
    },
    {
      "cell_type": "code",
      "source": [
        "from trl import SFTTrainer\n",
        "\n",
        "trainer = SFTTrainer(\n",
        "    model=model,\n",
        "    train_dataset=train_data,\n",
        "    peft_config=peft_config,\n",
        "    dataset_text_field=\"text\",\n",
        "    tokenizer=tokenizer,\n",
        "    args=training_arguments,\n",
        "    packing=False,\n",
        ")\n",
        "\n",
        "# 학습\n",
        "trainer.train()"
      ],
      "metadata": {
        "id": "cts6OaDKqQgv"
      },
      "execution_count": null,
      "outputs": []
    },
    {
      "cell_type": "code",
      "source": [
        "# 저장\n",
        "trainer.save_model()\n",
        "tokenizer.save_pretrained(\"korean-real-estate-transaction_advisor_model\")\n",
        "\n",
        "from peft import AutoPeftModelForCausalLM\n",
        "\n",
        "model = AutoPeftModelForCausalLM.from_pretrained(\n",
        "     \"korean-real-estate-transaction_advisor_model\",\n",
        "     torch_dtype=compute_dtype,\n",
        "     device_map=\"auto\",\n",
        ")\n",
        "\n",
        "merged_model = model.merge_and_unload()\n",
        "merged_model.save_pretrained(\"./korean-real-estate-transaction_advisor_pretrained\", safe_serialization=True, max_shard_size=\"2GB\")\n",
        "tokenizer.save_pretrained(\"./korean-real-estate-transaction_advisor_pretrained\")"
      ],
      "metadata": {
        "id": "-_96kFnvqTJg"
      },
      "execution_count": null,
      "outputs": []
    },
    {
      "cell_type": "code",
      "source": [
        "from transformers import AutoModelForCausalLM, AutoTokenizer\n",
        "import torch\n",
        "\n",
        "# 사전 훈련된 모델 디렉토리 경로 지정\n",
        "model_name = \"./korean-real-estate-transaction_advisor_pretrained\"\n",
        "\n",
        "# 디바이스 맵 없이 모델 로드\n",
        "model = AutoModelForCausalLM.from_pretrained(\n",
        "    model_name,\n",
        "    torch_dtype=torch.float16,  # 데이터 타입 설정\n",
        ")\n",
        "\n",
        "# GPU가 사용 가능하면 모델을 GPU로 이동\n",
        "device = torch.device('cuda' if torch.cuda.is_available() else 'cpu')\n",
        "model.to(device)\n",
        "\n",
        "# 토크나이저 로드\n",
        "tokenizer = AutoTokenizer.from_pretrained(model_name)\n",
        "\n",
        "# 재정 조언 생성 함수 정의\n",
        "def get_advice(user_profile, model=model, tokenizer=tokenizer):\n",
        "    prompt = f\"input: {user_profile}\\noutput:\"\n",
        "    # 입력을 토크나이즈하고 텐서를 모델과 동일한 디바이스로 이동\n",
        "    inputs = tokenizer(prompt, return_tensors=\"pt\").to(device)\n",
        "    outputs = model.generate(\n",
        "        **inputs,\n",
        "        max_new_tokens=150,  # 생성할 최대 토큰 수\n",
        "        no_repeat_ngram_size=2,  # 반복되는 n-그램 방지\n",
        "        early_stopping=True,  # 조기 종료 설정\n",
        "    )\n",
        "    response = tokenizer.decode(outputs[0], skip_special_tokens=True)  # 생성된 응답 디코딩\n",
        "    return response.split('output:')[-1].strip()  # 'output:' 이후의 내용을 반환\n",
        "\n",
        "# 예시 사용법\n",
        "example_input = df.iloc[0]['input']\n",
        "print(\"거래 정보가 궁금한 동네 입력:\")\n",
        "print(example_input)\n",
        "print(\"\\n생성된 조언:\")\n",
        "print(get_advice(example_input))\n"
      ],
      "metadata": {
        "id": "sWJhodkwqXJw"
      },
      "execution_count": null,
      "outputs": []
    },
    {
      "cell_type": "code",
      "source": [],
      "metadata": {
        "id": "dlMcdiMK3TCX"
      },
      "execution_count": null,
      "outputs": []
    }
  ]
}